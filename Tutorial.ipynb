{
 "cells": [
  {
   "cell_type": "code",
   "execution_count": 21,
   "id": "8ae6bdef",
   "metadata": {},
   "outputs": [],
   "source": [
    "a = 5"
   ]
  },
  {
   "cell_type": "code",
   "execution_count": 23,
   "id": "64770793",
   "metadata": {},
   "outputs": [
    {
     "data": {
      "text/plain": [
       "1.732050808"
      ]
     },
     "execution_count": 23,
     "metadata": {},
     "output_type": "execute_result"
    }
   ],
   "source": [
    "sqrt(3).n(digits = 10)"
   ]
  },
  {
   "cell_type": "code",
   "execution_count": 26,
   "id": "243e2f27",
   "metadata": {},
   "outputs": [
    {
     "data": {
      "text/plain": [
       "11.54873936"
      ]
     },
     "execution_count": 26,
     "metadata": {},
     "output_type": "execute_result"
    }
   ],
   "source": [
    "sinh(pi).n(digits = 10)"
   ]
  },
  {
   "cell_type": "code",
   "execution_count": 29,
   "id": "60821420",
   "metadata": {},
   "outputs": [],
   "source": [
    "sudoku?"
   ]
  },
  {
   "cell_type": "code",
   "execution_count": 30,
   "id": "57df0cc7",
   "metadata": {},
   "outputs": [],
   "source": [
    "u = var('u')"
   ]
  },
  {
   "cell_type": "code",
   "execution_count": 31,
   "id": "974587a0",
   "metadata": {},
   "outputs": [
    {
     "data": {
      "text/plain": [
       "u"
      ]
     },
     "execution_count": 31,
     "metadata": {},
     "output_type": "execute_result"
    }
   ],
   "source": [
    "u"
   ]
  },
  {
   "cell_type": "code",
   "execution_count": 32,
   "id": "a1938ece",
   "metadata": {},
   "outputs": [
    {
     "data": {
      "text/plain": [
       "cos(u)"
      ]
     },
     "execution_count": 32,
     "metadata": {},
     "output_type": "execute_result"
    }
   ],
   "source": [
    "diff(sin(u),u)"
   ]
  },
  {
   "cell_type": "code",
   "execution_count": 33,
   "id": "9ee8b534",
   "metadata": {},
   "outputs": [],
   "source": [
    "x = var('x')"
   ]
  },
  {
   "cell_type": "code",
   "execution_count": 34,
   "id": "a2b1595b",
   "metadata": {},
   "outputs": [
    {
     "data": {
      "text/plain": [
       "x"
      ]
     },
     "execution_count": 34,
     "metadata": {},
     "output_type": "execute_result"
    }
   ],
   "source": [
    "x"
   ]
  },
  {
   "cell_type": "code",
   "execution_count": 35,
   "id": "06e0bb2f",
   "metadata": {},
   "outputs": [],
   "source": [
    "x?"
   ]
  },
  {
   "cell_type": "code",
   "execution_count": 36,
   "id": "5cb5f2b8",
   "metadata": {},
   "outputs": [
    {
     "data": {
      "text/plain": [
       "[x == -2, x == -1]"
      ]
     },
     "execution_count": 36,
     "metadata": {},
     "output_type": "execute_result"
    }
   ],
   "source": [
    "solve(x^2 + 3*x + 2,x)"
   ]
  },
  {
   "cell_type": "code",
   "execution_count": 37,
   "id": "22a7c803",
   "metadata": {},
   "outputs": [],
   "source": [
    "x,b,c = var('x b c')"
   ]
  },
  {
   "cell_type": "code",
   "execution_count": 38,
   "id": "20ad038d",
   "metadata": {},
   "outputs": [
    {
     "data": {
      "text/plain": [
       "[x == -1/2*b - 1/2*sqrt(b^2 - 4*c), x == -1/2*b + 1/2*sqrt(b^2 - 4*c)]"
      ]
     },
     "execution_count": 38,
     "metadata": {},
     "output_type": "execute_result"
    }
   ],
   "source": [
    "solve([x^2 + b*x + c == 0], x)"
   ]
  },
  {
   "cell_type": "code",
   "execution_count": 39,
   "id": "dac93a0b",
   "metadata": {},
   "outputs": [
    {
     "data": {
      "text/plain": [
       "cos(u)"
      ]
     },
     "execution_count": 39,
     "metadata": {},
     "output_type": "execute_result"
    }
   ],
   "source": [
    "u = var('u')\n",
    "diff(sin(u),u)"
   ]
  },
  {
   "cell_type": "code",
   "execution_count": 40,
   "id": "53b78bba",
   "metadata": {},
   "outputs": [
    {
     "data": {
      "text/plain": [
       "3125*u^20*cos(u^5) + 25000*u^15*sin(u^5) - 45000*u^10*cos(u^5) - 15000*u^5*sin(u^5) + 120*cos(u^5)"
      ]
     },
     "execution_count": 40,
     "metadata": {},
     "output_type": "execute_result"
    }
   ],
   "source": [
    "diff(sin(u^5),u,5)"
   ]
  },
  {
   "cell_type": "code",
   "execution_count": 41,
   "id": "5a14bdf4",
   "metadata": {},
   "outputs": [],
   "source": [
    "x,y = var('x y')"
   ]
  },
  {
   "cell_type": "code",
   "execution_count": 42,
   "id": "1a1bd2a3",
   "metadata": {},
   "outputs": [],
   "source": [
    "f = 3*x^5 + 7*sin(y)"
   ]
  },
  {
   "cell_type": "code",
   "execution_count": 43,
   "id": "b6db095f",
   "metadata": {},
   "outputs": [
    {
     "data": {
      "text/plain": [
       "15*x^4"
      ]
     },
     "execution_count": 43,
     "metadata": {},
     "output_type": "execute_result"
    }
   ],
   "source": [
    "f.diff(x)"
   ]
  },
  {
   "cell_type": "code",
   "execution_count": 44,
   "id": "ff176450",
   "metadata": {},
   "outputs": [
    {
     "data": {
      "text/plain": [
       "7*cos(y)"
      ]
     },
     "execution_count": 44,
     "metadata": {},
     "output_type": "execute_result"
    }
   ],
   "source": [
    "f.diff(y,5)"
   ]
  },
  {
   "cell_type": "code",
   "execution_count": 45,
   "id": "bb29aa19",
   "metadata": {},
   "outputs": [],
   "source": [
    "diff?"
   ]
  },
  {
   "cell_type": "code",
   "execution_count": 46,
   "id": "76dd6aa3",
   "metadata": {},
   "outputs": [
    {
     "data": {
      "image/png": "[encoded data removed]",
      "text/plain": [
       "Graphics object consisting of 1 graphics primitive"
      ]
     },
     "execution_count": 46,
     "metadata": {},
     "output_type": "execute_result"
    }
   ],
   "source": [
    "circle((0,0), 1, rgbcolor=(1,1,0))"
   ]
  },
  {
   "cell_type": "code",
   "execution_count": 47,
   "id": "9b069d8a",
   "metadata": {},
   "outputs": [],
   "source": [
    "x = var('x')"
   ]
  },
  {
   "cell_type": "code",
   "execution_count": 48,
   "id": "3ab6975e",
   "metadata": {},
   "outputs": [],
   "source": [
    "p1 = parametric_plot((cos(x),sin(x)),(x,0,2*pi),rgbcolor=hue(0.2))"
   ]
  },
  {
   "cell_type": "code",
   "execution_count": 49,
   "id": "8b00c920",
   "metadata": {},
   "outputs": [],
   "source": [
    "p2 = parametric_plot((cos(x),sin(x)^2),(x,0,2*pi),rgbcolor=hue(0.4))"
   ]
  },
  {
   "cell_type": "code",
   "execution_count": 50,
   "id": "901d15a6",
   "metadata": {},
   "outputs": [],
   "source": [
    "p3 = parametric_plot((cos(x),sin(x)^3),(x,0,2*pi),rgbcolor=hue(0.6))"
   ]
  },
  {
   "cell_type": "code",
   "execution_count": 51,
   "id": "97c0fcba",
   "metadata": {},
   "outputs": [
    {
     "data": {
      "image/png": "[encoded data removed]",
      "text/plain": [
       "Graphics object consisting of 3 graphics primitives"
      ]
     },
     "metadata": {},
     "output_type": "display_data"
    }
   ],
   "source": [
    "show(p1+p2+p3, axes=false)"
   ]
  },
  {
   "cell_type": "code",
   "execution_count": null,
   "id": "682b098e",
   "metadata": {},
   "outputs": [],
   "source": []
  }
 ],
 "metadata": {
  "kernelspec": {
   "display_name": "SageMath 9.7",
   "language": "sage",
   "name": "sagemath-9.7"
  },
  "language_info": {
   "codemirror_mode": {
    "name": "ipython",
    "version": 3
   },
   "file_extension": ".py",
   "mimetype": "text/x-python",
   "name": "python",
   "nbconvert_exporter": "python",
   "pygments_lexer": "ipython3",
   "version": "3.10.5"
  }
 },
 "nbformat": 4,
 "nbformat_minor": 5
}
